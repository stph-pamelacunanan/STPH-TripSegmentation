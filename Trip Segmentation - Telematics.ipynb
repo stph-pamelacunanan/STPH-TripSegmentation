{
 "cells": [
  {
   "cell_type": "markdown",
   "id": "1e0c1afe",
   "metadata": {},
   "source": [
    "# Trip Segmentation & Super Summaries with Telematics Data"
   ]
  },
  {
   "cell_type": "code",
   "execution_count": 1,
   "id": "b845de20",
   "metadata": {},
   "outputs": [],
   "source": [
    "# !pip install pandas numpy geopy\n",
    "# !pip install folium\n",
    "# !pip install scipy"
   ]
  },
  {
   "cell_type": "code",
   "execution_count": 2,
   "id": "ca4e830d-1b79-45b9-a1c3-31f14dbce8b0",
   "metadata": {},
   "outputs": [
    {
     "data": {
      "text/plain": [
       "<module 'stph_trips' from '/Users/pam/Documents/Git/STPH/Trip segmentation/stph_trips/__init__.py'>"
      ]
     },
     "execution_count": 2,
     "metadata": {},
     "output_type": "execute_result"
    }
   ],
   "source": [
    "import pandas as pd\n",
    "from datetime import timedelta\n",
    "import os\n",
    "import numpy as np\n",
    "import random  # For mapping a random sample of trips\n",
    "\n",
    "# Library created to create trips\n",
    "import importlib\n",
    "import stph_trips\n",
    "importlib.reload(stph_trips)"
   ]
  },
  {
   "cell_type": "markdown",
   "id": "6fe88bfb-c8bc-472c-8c72-2735a162bd9c",
   "metadata": {},
   "source": [
    "<hr style=\"border:2px solid darkblue\"> \n",
    "\n",
    "## Import telematics data"
   ]
  },
  {
   "cell_type": "code",
   "execution_count": 3,
   "id": "c3a50d6e-e016-4356-895d-843c34b4d250",
   "metadata": {},
   "outputs": [],
   "source": [
    "def import_and_concatenate_csvs(folder_path):\n",
    "    all_dfs = []\n",
    "    \n",
    "    # Loop through all files in the folder\n",
    "    for file in os.listdir(folder_path):\n",
    "        if file.endswith(\".csv\"):  # Check if the file is a CSV\n",
    "            file_path = os.path.join(folder_path, file)\n",
    "            df = pd.read_csv(file_path)  # Read CSV into DataFrame\n",
    "            all_dfs.append(df)  # Store DataFrame in list\n",
    "    \n",
    "    # Concatenate all DataFrames into one\n",
    "    if all_dfs:\n",
    "        final_df = pd.concat(all_dfs, ignore_index=True)\n",
    "        return final_df\n",
    "    else:\n",
    "        print(\"No CSV files found in the specified folder.\")\n",
    "        return None\n",
    "\n",
    "folder_path = \"/Users/pam/Documents/Git/STPH/Trip segmentation/sample_datasets/telematics\" \n",
    "telematics_data = import_and_concatenate_csvs(folder_path)"
   ]
  },
  {
   "cell_type": "markdown",
   "id": "5c1b2772",
   "metadata": {},
   "source": [
    "#### Note\n",
    "\n",
    "The code block below needs to be updated! The matching of vehicle_code / imei with the Route should be pulled from an independent data source that is updated whenever we add a new vehicle in our dataset."
   ]
  },
  {
   "cell_type": "code",
   "execution_count": 4,
   "id": "12241fc7-50c4-471d-89c4-b901b17c6a39",
   "metadata": {},
   "outputs": [],
   "source": [
    "# Data cleaning of telematics\n",
    "imeis = ['350612076055969', '350612079013932', '350612076078946',\n",
    "         '350612076068145', '350612076064508', '350544507513318']\n",
    "routes = ['Route 9', 'Route 9', 'Route 17', 'Route 17', 'Route 9', 'Route 17']\n",
    "\n",
    "list_of_ejeepneys = pd.DataFrame(data = {'imei': imeis, 'route': routes})"
   ]
  },
  {
   "cell_type": "code",
   "execution_count": 5,
   "id": "5ac84b63-2166-4c7e-b918-9878c00fbbcb",
   "metadata": {},
   "outputs": [],
   "source": [
    "# Fix timestamp\n",
    "telematics_data['timestamp'] = telematics_data['timestamp'].apply(str).str.replace('+00:00', '').str.replace('T', ' ').str[:19]\n",
    "telematics_data['timestamp'] = pd.to_datetime(telematics_data['timestamp'], format = '%Y-%m-%d %H:%M:%S')\n",
    "\n",
    "# Convert imei and deviceCode to string\n",
    "telematics_data['deviceCode'] = telematics_data['deviceCode'].apply(str).str.replace('.0', '')\n",
    "telematics_data['imei'] = telematics_data['imei'].apply(str).str.replace('.0', '')\n",
    "\n",
    "telematics_data = telematics_data.sort_values(by = ['timestamp', 'deviceCode'])"
   ]
  },
  {
   "cell_type": "code",
   "execution_count": 6,
   "id": "d4504d5c-5330-4886-b715-7f8eff88764c",
   "metadata": {},
   "outputs": [],
   "source": [
    "# Add route\n",
    "telematics_with_route = telematics_data.merge(list_of_ejeepneys, how='left', on = 'imei')\n",
    "telematics_with_route.dropna(subset = ['route'], inplace = True)\n",
    "telematics_with_route.reset_index(drop=True, inplace=True)\n",
    "\n",
    "del telematics_data   ## To save memory "
   ]
  },
  {
   "cell_type": "code",
   "execution_count": 7,
   "id": "6e3aac29-db79-4af3-875e-c5992e0c1ea8",
   "metadata": {},
   "outputs": [],
   "source": [
    "# Add distance travelled, per vehicle\n",
    "from stph_trips.trip_summary_telematics import haversine  \n",
    "\n",
    "## Sort by deviceCode and timestamp to ensure correct ordering\n",
    "telematics_with_route = telematics_with_route.sort_values(['deviceCode', 'timestamp'])\n",
    "\n",
    "## Compute previous latitude, longitude, and timestamp per device\n",
    "telematics_with_route['prev_latitude'] = telematics_with_route.groupby('deviceCode')['latitude'].shift(1)\n",
    "telematics_with_route['prev_longitude'] = telematics_with_route.groupby('deviceCode')['longitude'].shift(1)\n",
    "telematics_with_route['prev_timestamp'] = telematics_with_route.groupby('deviceCode')['timestamp'].shift(1)\n",
    "\n",
    "## Compute time difference in seconds\n",
    "telematics_with_route['time_diff'] = (telematics_with_route['timestamp'] - telematics_with_route['prev_timestamp']).dt.total_seconds()\n",
    "\n",
    "## Compute distance traveled\n",
    "telematics_with_route['distanceTravelled'] = telematics_with_route.apply(\n",
    "    lambda x: haversine(x['prev_latitude'], x['prev_longitude'], x['latitude'], x['longitude']) \n",
    "    if pd.notna(x['prev_latitude']) and x['time_diff'] <= 600 else 0,  # Ignore if time_diff > 600 sec (10 min)\n",
    "    axis=1)\n",
    "telematics_with_route = telematics_with_route.drop(columns=['prev_latitude', 'prev_longitude', 'prev_timestamp', 'time_diff'])"
   ]
  },
  {
   "cell_type": "code",
   "execution_count": 8,
   "id": "7c01c1bf-2bf4-48ef-9b5f-f70cd8e57d25",
   "metadata": {},
   "outputs": [
    {
     "data": {
      "text/html": [
       "<div>\n",
       "<style scoped>\n",
       "    .dataframe tbody tr th:only-of-type {\n",
       "        vertical-align: middle;\n",
       "    }\n",
       "\n",
       "    .dataframe tbody tr th {\n",
       "        vertical-align: top;\n",
       "    }\n",
       "\n",
       "    .dataframe thead th {\n",
       "        text-align: right;\n",
       "    }\n",
       "</style>\n",
       "<table border=\"1\" class=\"dataframe\">\n",
       "  <thead>\n",
       "    <tr style=\"text-align: right;\">\n",
       "      <th></th>\n",
       "      <th>imei</th>\n",
       "      <th>latitude</th>\n",
       "      <th>longitude</th>\n",
       "      <th>timestamp</th>\n",
       "      <th>accelerationInMetersPerSecondSquared</th>\n",
       "      <th>distanceTravelledInKm</th>\n",
       "      <th>distanceTravelledSinceFaultCodesOrClearedInKm</th>\n",
       "      <th>tripOdomenterInKm</th>\n",
       "      <th>vehicleSpeedInKph</th>\n",
       "      <th>boardingCount</th>\n",
       "      <th>...</th>\n",
       "      <th>fuelPressure</th>\n",
       "      <th>fuelRailTemperatureIntake</th>\n",
       "      <th>manifoldAbsolutePressure</th>\n",
       "      <th>massAirFlowRate</th>\n",
       "      <th>throttlePosition</th>\n",
       "      <th>motorCurrentInXxx</th>\n",
       "      <th>averageFuelUse</th>\n",
       "      <th>directFuelRailPressure</th>\n",
       "      <th>route</th>\n",
       "      <th>distanceTravelled</th>\n",
       "    </tr>\n",
       "  </thead>\n",
       "  <tbody>\n",
       "    <tr>\n",
       "      <th>0</th>\n",
       "      <td>350612076068145</td>\n",
       "      <td>10.688977</td>\n",
       "      <td>122.525517</td>\n",
       "      <td>2025-01-23 06:42:07</td>\n",
       "      <td>0</td>\n",
       "      <td>0</td>\n",
       "      <td>21126</td>\n",
       "      <td>0</td>\n",
       "      <td>0</td>\n",
       "      <td>0</td>\n",
       "      <td>...</td>\n",
       "      <td>4026</td>\n",
       "      <td>0</td>\n",
       "      <td>0</td>\n",
       "      <td>1966</td>\n",
       "      <td>7</td>\n",
       "      <td>0</td>\n",
       "      <td>362</td>\n",
       "      <td>3896</td>\n",
       "      <td>Route 17</td>\n",
       "      <td>0.0</td>\n",
       "    </tr>\n",
       "    <tr>\n",
       "      <th>1</th>\n",
       "      <td>350612076078946</td>\n",
       "      <td>14.685118</td>\n",
       "      <td>121.085595</td>\n",
       "      <td>2025-01-07 20:46:33</td>\n",
       "      <td>0</td>\n",
       "      <td>0</td>\n",
       "      <td>0</td>\n",
       "      <td>0</td>\n",
       "      <td>0</td>\n",
       "      <td>0</td>\n",
       "      <td>...</td>\n",
       "      <td>0</td>\n",
       "      <td>0</td>\n",
       "      <td>0</td>\n",
       "      <td>0</td>\n",
       "      <td>0</td>\n",
       "      <td>0</td>\n",
       "      <td>0</td>\n",
       "      <td>0</td>\n",
       "      <td>Route 17</td>\n",
       "      <td>0.0</td>\n",
       "    </tr>\n",
       "    <tr>\n",
       "      <th>2</th>\n",
       "      <td>350612076078946</td>\n",
       "      <td>14.685118</td>\n",
       "      <td>121.085595</td>\n",
       "      <td>2025-01-07 20:46:34</td>\n",
       "      <td>0</td>\n",
       "      <td>0</td>\n",
       "      <td>0</td>\n",
       "      <td>0</td>\n",
       "      <td>0</td>\n",
       "      <td>0</td>\n",
       "      <td>...</td>\n",
       "      <td>0</td>\n",
       "      <td>0</td>\n",
       "      <td>0</td>\n",
       "      <td>0</td>\n",
       "      <td>0</td>\n",
       "      <td>0</td>\n",
       "      <td>0</td>\n",
       "      <td>0</td>\n",
       "      <td>Route 17</td>\n",
       "      <td>0.0</td>\n",
       "    </tr>\n",
       "  </tbody>\n",
       "</table>\n",
       "<p>3 rows × 32 columns</p>\n",
       "</div>"
      ],
      "text/plain": [
       "              imei   latitude   longitude           timestamp  \\\n",
       "0  350612076068145  10.688977  122.525517 2025-01-23 06:42:07   \n",
       "1  350612076078946  14.685118  121.085595 2025-01-07 20:46:33   \n",
       "2  350612076078946  14.685118  121.085595 2025-01-07 20:46:34   \n",
       "\n",
       "   accelerationInMetersPerSecondSquared  distanceTravelledInKm  \\\n",
       "0                                     0                      0   \n",
       "1                                     0                      0   \n",
       "2                                     0                      0   \n",
       "\n",
       "   distanceTravelledSinceFaultCodesOrClearedInKm  tripOdomenterInKm  \\\n",
       "0                                          21126                  0   \n",
       "1                                              0                  0   \n",
       "2                                              0                  0   \n",
       "\n",
       "   vehicleSpeedInKph  boardingCount  ...  fuelPressure  \\\n",
       "0                  0              0  ...          4026   \n",
       "1                  0              0  ...             0   \n",
       "2                  0              0  ...             0   \n",
       "\n",
       "   fuelRailTemperatureIntake  manifoldAbsolutePressure  massAirFlowRate  \\\n",
       "0                          0                         0             1966   \n",
       "1                          0                         0                0   \n",
       "2                          0                         0                0   \n",
       "\n",
       "  throttlePosition  motorCurrentInXxx  averageFuelUse  directFuelRailPressure  \\\n",
       "0                7                  0             362                    3896   \n",
       "1                0                  0               0                       0   \n",
       "2                0                  0               0                       0   \n",
       "\n",
       "      route  distanceTravelled  \n",
       "0  Route 17                0.0  \n",
       "1  Route 17                0.0  \n",
       "2  Route 17                0.0  \n",
       "\n",
       "[3 rows x 32 columns]"
      ]
     },
     "execution_count": 8,
     "metadata": {},
     "output_type": "execute_result"
    }
   ],
   "source": [
    "telematics_with_route = telematics_with_route.reset_index(drop = True)\n",
    "telematics_with_route.head(3)"
   ]
  },
  {
   "cell_type": "markdown",
   "id": "0cbe64aa-d8d3-43f7-a5d0-1dff732f6fb6",
   "metadata": {},
   "source": [
    "<hr style=\"border:2px solid darkblue\"> \n",
    "\n",
    "## Trip segmentation"
   ]
  },
  {
   "cell_type": "code",
   "execution_count": 9,
   "id": "180f6ca7-bdb2-4267-810e-79795d2ce2e3",
   "metadata": {},
   "outputs": [],
   "source": [
    "# Produce the route_dict first, the object name `routes_dict` shall not be changed\n",
    "routes_dict = stph_trips.obtain_route_dict(path_of_gtfs_shapefiles = '/Users/pam/Documents/Git/STPH/Trip segmentation/gtfs_route_shape_files/',\n",
    "                                           min_dist = 100, max_dist = 150)"
   ]
  },
  {
   "cell_type": "code",
   "execution_count": null,
   "id": "c549e850-c1f0-4683-bb1e-0086060fddf7",
   "metadata": {},
   "outputs": [],
   "source": [
    "vehicleFeeds_with_tripID_list = []\n",
    "\n",
    "for vehicle in telematics_with_route['imei'].unique().tolist():\n",
    "    print(\"Now processing: \" + vehicle)\n",
    "    my_df = telematics_with_route[telematics_with_route['imei'] == vehicle].reset_index(drop=True)\n",
    "    vehicle_feeds_with_tripID = stph_trips.trip_segmentation(vehicle_feeds_df = my_df,\n",
    "                                                             routes_dict = routes_dict,\n",
    "                                                             my_dist_cutoff = 100, \n",
    "                                                                ## Increased, default is 50 meters\n",
    "                                                             zero_cutoff = 60, \n",
    "                                                                ## If a vehicle is not near a stop, should be no longer than 1 min (60 secs).\n",
    "                                                                ## Anything longer means that the vehicle is outside the route, and thus not a valid trip\n",
    "                                                             my_dist_threshold = 0.3,\n",
    "                                                                ## Proportion of the expected distance that is allowable for a trip to be valid\n",
    "                                                             my_time_threshold = 15,   \n",
    "                                                                ## Minimum length (mins) for a trip to be considered \"complete\"\n",
    "                                                             max_time_gap = 10,\n",
    "                                                                    ## Maximum no. of minutes between two points for them to be in the same trip\n",
    "                                                             STPHapp_indicator = False)   \n",
    "    vehicleFeeds_with_tripID_list.append(vehicle_feeds_with_tripID)\n",
    "\n",
    "all_vehicleFeeds_with_tripID = pd.concat(vehicleFeeds_with_tripID_list, ignore_index = True)"
   ]
  },
  {
   "cell_type": "code",
   "execution_count": null,
   "id": "a7a2b370",
   "metadata": {},
   "outputs": [],
   "source": [
    "all_vehicleFeeds_with_tripID.head(5)"
   ]
  },
  {
   "cell_type": "code",
   "execution_count": null,
   "id": "88194d7e-a57a-430d-8d95-568a406ca46c",
   "metadata": {},
   "outputs": [],
   "source": [
    "# Optional: Save the raw telematics data file with trip_id and route columms\n",
    "## all_vehicleFeeds_with_tripID.to_csv(\"Telematics vehicle feeds with Trip ID.csv\", index = False)"
   ]
  },
  {
   "cell_type": "markdown",
   "id": "2dadd354-d623-4f2e-997b-57e40dcfd69b",
   "metadata": {},
   "source": [
    "<hr style=\"border:2px solid darkblue\"> \n",
    "\n",
    "## Super summaries"
   ]
  },
  {
   "cell_type": "code",
   "execution_count": null,
   "id": "a3765278",
   "metadata": {},
   "outputs": [],
   "source": [
    "importlib.reload(stph_trips.trip_summary_telematics)\n",
    "from stph_trips.trip_summary_telematics import tripSuperSummary_telematics"
   ]
  },
  {
   "cell_type": "code",
   "execution_count": null,
   "id": "7437cdac",
   "metadata": {},
   "outputs": [],
   "source": [
    "tripSuperSummaries_list = []\n",
    "\n",
    "for vehicle in all_vehicleFeeds_with_tripID['imei'].unique().tolist():\n",
    "    print(\"Now processing: \" + vehicle)\n",
    "    my_df = all_vehicleFeeds_with_tripID[all_vehicleFeeds_with_tripID['imei'] == vehicle].reset_index(drop=True)\n",
    "    trip_summaries = tripSuperSummary_telematics(vehicle_feeds_with_tripID = my_df,\n",
    "                                                 speed_cutoff = 5,\n",
    "                                                 overwaiting_time = [90, 150],\n",
    "                                                 overspeeding_thresholds = [60, 65],\n",
    "                                                 harsh_acceleration = [(2.5, 2000), (2.5, 2500), (3.5, 2000), (3.5, 2500)],\n",
    "                                                 harsh_braking = [(-2.5, -1000), (-3.5, -1000)])\n",
    "    tripSuperSummaries_list.append(trip_summaries)\n",
    "\n",
    "tripSuperSummaries = pd.concat(tripSuperSummaries_list, ignore_index = True)"
   ]
  },
  {
   "cell_type": "code",
   "execution_count": null,
   "id": "25319417",
   "metadata": {},
   "outputs": [],
   "source": [
    "tripSuperSummaries.head(5)"
   ]
  },
  {
   "cell_type": "code",
   "execution_count": null,
   "id": "4e432860",
   "metadata": {},
   "outputs": [],
   "source": [
    "# Optional: Saving trip super summaries as an Excel file\n",
    "## tripSuperSummaries.to_excel(\"Trip super summaries.xlsx\", index = False)"
   ]
  },
  {
   "cell_type": "markdown",
   "id": "9d9db562-e796-4b5f-affc-61b0c48eda7d",
   "metadata": {},
   "source": [
    "<hr style=\"border:2px solid darkblue\"> \n",
    "\n",
    "## [Optional] Mapping complete trips for manual visual verification"
   ]
  },
  {
   "cell_type": "code",
   "execution_count": null,
   "id": "4e59665b-8414-4682-be46-d4ff1ec85c44",
   "metadata": {},
   "outputs": [],
   "source": [
    "# Optional\n",
    "del telematics_with_route\n",
    "# Adding the imei with the trip_id\n",
    "all_vehicleFeeds_with_tripID['tripID'] = all_vehicleFeeds_with_tripID['imei'] + \"_\" + all_vehicleFeeds_with_tripID['trip_identifier']\n",
    "all_vehicleFeeds_with_tripID.head(2)"
   ]
  },
  {
   "cell_type": "markdown",
   "id": "e2c6d4d2",
   "metadata": {},
   "source": [
    "### Plotting complete trips"
   ]
  },
  {
   "cell_type": "markdown",
   "id": "eb327d8c",
   "metadata": {},
   "source": [
    "A random sample of 10 complete trips:"
   ]
  },
  {
   "cell_type": "code",
   "execution_count": null,
   "id": "6f5634e1-2e57-4636-aa75-82b61423f6f0",
   "metadata": {},
   "outputs": [],
   "source": [
    "all_complete_trips = [trip for trip in all_vehicleFeeds_with_tripID['tripID'].unique().tolist() if 'cuttrip' not in trip]\n",
    "sample_trips = random.sample(all_complete_trips, 10)\n",
    "for trip in sample_trips:\n",
    "    feeds = all_vehicleFeeds_with_tripID[all_vehicleFeeds_with_tripID['tripID'] == trip].sort_values(by = 'timestamp').reset_index(drop=True)\n",
    "    try:\n",
    "        stph_trips.route_gtfs_stops_mapper(feeds, output_html = trip + \".html\")\n",
    "    except:\n",
    "        pass"
   ]
  },
  {
   "cell_type": "code",
   "execution_count": null,
   "id": "35f2f36b-77b9-474b-a7cc-0a1cb54efdd9",
   "metadata": {},
   "outputs": [],
   "source": [
    "for trip in sample_trips:\n",
    "    feeds = all_vehicleFeeds_with_tripID[all_vehicleFeeds_with_tripID['tripID'] == trip].sort_values(by = 'timestamp').reset_index(drop=True)\n",
    "    try:\n",
    "        stph_trips.route_gtfs_stops_mapper(feeds, output_html = feeds['route'].values[0] + \" - \" + trip + \".html\")\n",
    "    except:\n",
    "        pass"
   ]
  },
  {
   "cell_type": "markdown",
   "id": "f9e66516",
   "metadata": {},
   "source": [
    "Plotting 5 complete trips for each vehicle (imei)L"
   ]
  },
  {
   "cell_type": "code",
   "execution_count": null,
   "id": "b9ca2e46-1d85-401d-aa00-a780665b38e7",
   "metadata": {},
   "outputs": [],
   "source": [
    "for imei in all_vehicleFeeds_with_tripID['imei'].unique().tolist():\n",
    "    print(imei)\n",
    "    imei_df = all_vehicleFeeds_with_tripID[all_vehicleFeeds_with_tripID['imei'] == imei]\n",
    "    all_complete_trips = [trip for trip in imei_df['tripID'].unique().tolist() if 'cuttrip' not in trip]\n",
    "    if len(all_complete_trips) > 0:\n",
    "        if len(all_complete_trips) < 5:\n",
    "            samp_size = len(all_complete_trips)\n",
    "        else:\n",
    "            samp_size = 5\n",
    "        sample_trips = random.sample(all_complete_trips, samp_size)\n",
    "        for trip in sample_trips:\n",
    "            feeds = imei_df[imei_df['tripID'] == trip].sort_values(by = 'timestamp').reset_index(drop=True)\n",
    "            try:\n",
    "                stph_trips.route_gtfs_stops_mapper(feeds, output_html = feeds['route'].values[0] + \" - \" + trip + \".html\")\n",
    "            except:\n",
    "                pass\n",
    "    else:\n",
    "        pass"
   ]
  },
  {
   "cell_type": "markdown",
   "id": "1aba0d51",
   "metadata": {},
   "source": [
    "*End of code*\n",
    "\n",
    "---\n",
    "\n",
    "Date of most recent edit: **8 April 2025**"
   ]
  }
 ],
 "metadata": {
  "kernelspec": {
   "display_name": "Python 3",
   "language": "python",
   "name": "python3"
  },
  "language_info": {
   "codemirror_mode": {
    "name": "ipython",
    "version": 3
   },
   "file_extension": ".py",
   "mimetype": "text/x-python",
   "name": "python",
   "nbconvert_exporter": "python",
   "pygments_lexer": "ipython3",
   "version": "3.10.11"
  }
 },
 "nbformat": 4,
 "nbformat_minor": 5
}
